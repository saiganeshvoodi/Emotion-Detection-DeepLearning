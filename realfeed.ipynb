{
 "cells": [
  {
   "cell_type": "code",
   "execution_count": 1,
   "metadata": {},
   "outputs": [],
   "source": [
    "import os\n",
    "import cv2\n",
    "import numpy as np\n",
    "import tensorflow as tf\n",
    "from tensorflow.keras.models import model_from_json\n",
    "from tensorflow.keras.utils import img_to_array\n",
    "from tensorflow.keras.preprocessing.image import img_to_array\n",
    "import time\n"
   ]
  },
  {
   "cell_type": "code",
   "execution_count": 2,
   "metadata": {},
   "outputs": [],
   "source": [
    "model = model_from_json(open(\"./model.json\", \"r\").read())\n",
    "model.load_weights('best_model.h5')\n",
    "face_haar_cascade = cv2.CascadeClassifier('haarcascade_frontalface_default.xml')"
   ]
  },
  {
   "cell_type": "code",
   "execution_count": null,
   "metadata": {},
   "outputs": [],
   "source": [
    "cap = cv2.VideoCapture(0)  # start webcam\n",
    "\n",
    "while True:\n",
    "    start_time = time.time()\n",
    "\n",
    "    ret, test_image = cap.read()  # reading image from video frame\n",
    "    if not ret:  # if not getting frames then exit\n",
    "        break\n",
    "\n",
    "    gray_image = cv2.cvtColor(test_image, cv2.COLOR_BGR2GRAY)  # converting the rgb image to grayscale\n",
    "\n",
    "    faces_detected = face_haar_cascade.detectMultiScale(gray_image)  # detecting faces using haar_cascade\n",
    "    for (x, y, w, h) in faces_detected:  # coordinates of detected faces\n",
    "        cv2.rectangle(test_image, (x, y), (x+w, y+h), (255, 0, 0), 2)  # putting a rectangle box around detected face\n",
    "        roi_gray = gray_image[y:y+w, x:x+h]  # capturing only face from the image\n",
    "        roi_gray = cv2.resize(roi_gray, (48, 48))  # resizing it to 48x48 (that's what the model wants as input)\n",
    "        image_pixels = img_to_array(roi_gray)  # converting image to array\n",
    "        image_pixels = np.expand_dims(image_pixels, axis=0)  # expanding dims as the model needs input in batches\n",
    "\n",
    "        predictions = model.predict(image_pixels)  # model prediction\n",
    "        max_index = np.argmax(predictions[0])  # getting emotion index\n",
    "\n",
    "        emotion_detection = ('angry', 'disgust', 'fear', 'happy', 'sad', 'surprise', 'neutral')\n",
    "        emotion_prediction = emotion_detection[max_index]\n",
    "\n",
    "        cv2.putText(test_image, emotion_prediction, (int(x), int(y)), cv2.FONT_HERSHEY_SIMPLEX, 2, (0, 255, 0), 3)  # putting text around face\n",
    "\n",
    "    cv2.imshow('Emotion Detector', test_image)\n",
    "\n",
    "    elapsed_time = time.time() - start_time\n",
    "    # Adjust sleep duration to achieve the desired frame rate\n",
    "    time.sleep(max(0, 1.0 / 30 - elapsed_time))\n",
    "\n",
    "    if cv2.waitKey(10) == ord('b'):\n",
    "        break\n",
    "\n",
    "cap.release()\n",
    "cv2.destroyAllWindows()\n"
   ]
  },
  {
   "cell_type": "code",
   "execution_count": null,
   "metadata": {},
   "outputs": [],
   "source": []
  }
 ],
 "metadata": {
  "kernelspec": {
   "display_name": "base",
   "language": "python",
   "name": "python3"
  },
  "language_info": {
   "codemirror_mode": {
    "name": "ipython",
    "version": 3
   },
   "file_extension": ".py",
   "mimetype": "text/x-python",
   "name": "python",
   "nbconvert_exporter": "python",
   "pygments_lexer": "ipython3",
   "version": "3.11.7"
  }
 },
 "nbformat": 4,
 "nbformat_minor": 2
}
